{
 "cells": [
  {
   "cell_type": "code",
   "execution_count": 4,
   "metadata": {},
   "outputs": [
    {
     "name": "stdout",
     "output_type": "stream",
     "text": [
      "b'iVBORw0KGgoAAAANSUhEUgAAAIAAAACACAAAAADmVT4XAAACPUlEQVR4nO2a0ZKDMAhFE2f//5PNPrjbmoQQwAudznCfalU43mCCraWkUqlUKpVKfVgVGewopZTSSvsQwPH+2MQMSoC6Dnz0m1IEOcDtSCr2MX0jQ5ABTEdNsef8QgLqxCn9TCniJs4zAZBhYARbgFWQymxpCHYAwiJdHbYn2AAw5wvLd3eF/H7ENLUhYHdjpkmegNuLmqbZOJJ5wBIXAYBbp7hIawDgOmkDQIohWALoDDjxAFFaAUBbNQuAQN1qbx4D2BDwBGoAwwhsPFACWKRpxhEAunxLS6McUAIISsBmuBQgUFYAlAFf6wBpgKkKwxzAAtDX2iyTIQlgXgpPfW2Ch0D+w8QjACaLmgBehFoCCwCfQknwrRMRp4UFi1vLALC1mCbAAeylKQOfGlAQ6AFgC7EVQCS5BRRA2FPRCgAhwgH6utwmIunSrAaw12CwA1ILtADgm9B1MTpHD8gxUALoDJB0aAQAcBro5yOEA88IngPoS3BL4N4R3QGoMfBvyTYWhALIHICvhbwFAV0xX4cRbfkbgHB3AvDoRl4EEgAPcRaMAD7tGGNBzKMZY8EA4N6P7gD8NRLEANyy8AChTwSXfrid3P1r1vAaCjMEtyn0/6ODQ0sHGrv5QJwDmxdljOLnOtoBaPd/yl8RqPjsV9z+orvnhdkBfP7SmPKdABzyX0HfCHXZqFan/H/RX7nuYzA44Ji/tGZ+JwuoWkvvQPRq2NqQNHw5Nv2tAtbHfyBPpVKpVCqVSqVSqVSnX1m5baJ0SyQiAAAAAElFTkSuQmCC'\n"
     ]
    },
    {
     "data": {
      "text/plain": [
       "<matplotlib.image.AxesImage at 0x1159f3d68>"
      ]
     },
     "execution_count": 4,
     "metadata": {},
     "output_type": "execute_result"
    },
    {
     "data": {
      "image/png": "[encoded data removed]",
      "text/plain": [
       "<Figure size 432x288 with 1 Axes>"
      ]
     },
     "metadata": {},
     "output_type": "display_data"
    }
   ],
   "source": [
    "import requests\n",
    "import base64\n",
    "import numpy as np\n",
    "import sys\n",
    "import matplotlib.cm as cm\n",
    "from io import BytesIO\n",
    "from PIL import Image\n",
    "from matplotlib.pyplot import imshow\n",
    "\n",
    "file_path = 'images/cxr_1.png'\n",
    "url = 'http://localhost:5200/segment/cxr'\n",
    "\n",
    "files = {'image': open(file_path,'rb')}\n",
    "\n",
    "try:\n",
    "    response = requests.post(url, files=files)\n",
    "except requests.exceptions.RequestException as err:  \n",
    "    print err\n",
    "    sys.exit(1)\n",
    "    \n",
    "base64_string = response.content\n",
    "print (base64_string)\n",
    "image = Image.open(BytesIO(base64.b64decode(base64_string)))\n",
    "image = np.asarray(image)\n",
    "imshow(image, cmap=cm.Greys_r, interpolation='none')\n"
   ]
  },
  {
   "cell_type": "code",
   "execution_count": null,
   "metadata": {},
   "outputs": [],
   "source": []
  }
 ],
 "metadata": {
  "kernelspec": {
   "display_name": "Python 3",
   "language": "python",
   "name": "python3"
  },
  "language_info": {
   "codemirror_mode": {
    "name": "ipython",
    "version": 3
   },
   "file_extension": ".py",
   "mimetype": "text/x-python",
   "name": "python",
   "nbconvert_exporter": "python",
   "pygments_lexer": "ipython3",
   "version": "3.6.1"
  }
 },
 "nbformat": 4,
 "nbformat_minor": 2
}
